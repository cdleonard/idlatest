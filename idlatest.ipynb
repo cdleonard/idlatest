{
 "cells": [
  {
   "cell_type": "code",
   "execution_count": null,
   "metadata": {},
   "outputs": [],
   "source": [
    "import sys, os\n",
    "import subprocess\n",
    "print(sys.version)"
   ]
  },
  {
   "cell_type": "code",
   "execution_count": null,
   "metadata": {},
   "outputs": [],
   "source": [
    "import pandas\n",
    "import numpy\n",
    "import matplotlib.pyplot as pyplot\n",
    "%matplotlib inline"
   ]
  },
  {
   "cell_type": "code",
   "execution_count": null,
   "metadata": {},
   "outputs": [],
   "source": [
    "# There are issues in some ipython versions with this\n",
    "import logging\n",
    "logging.basicConfig(level=logging.DEBUG)\n",
    "logger = logging.getLogger()\n",
    "\n",
    "logger.debug('debug logging enabled')"
   ]
  },
  {
   "cell_type": "code",
   "execution_count": null,
   "metadata": {
    "tags": [
     "parameters"
    ]
   },
   "outputs": [],
   "source": [
    "# parameters\n",
    "trace_dat_file = 'trace.dat'"
   ]
  },
  {
   "cell_type": "code",
   "execution_count": null,
   "metadata": {},
   "outputs": [],
   "source": [
    "print('Using trace file {}'.format(os.path.realpath(trace_dat_file)))\n",
    "from my.idlatest import estimate_idle_latency\n",
    "df = estimate_idle_latency(trace_dat_file)\n",
    "df['wake_lat'] = df['exit_ts'] - df['wake_ts']"
   ]
  },
  {
   "cell_type": "code",
   "execution_count": null,
   "metadata": {},
   "outputs": [],
   "source": [
    "df"
   ]
  },
  {
   "cell_type": "code",
   "execution_count": null,
   "metadata": {},
   "outputs": [],
   "source": [
    "def format_sec_ns(val, tn):\n",
    "    return '%dus' % (val * 10000000,)\n",
    "\n",
    "def plot_hist(df, title='Idle Latency Plot'):\n",
    "    lat = df['wake_lat']\n",
    "    lat = lat[lat.notnull()]\n",
    "    if lat.empty:\n",
    "        return\n",
    "    \n",
    "    pyplot.figure(figsize=(16, 4))\n",
    "    \n",
    "    histcnts, histbins, _ = pyplot.hist(lat, bins=64, align='left')\n",
    "    \n",
    "    pyplot.title(title)\n",
    "    pyplot.ylabel('Events')\n",
    "    pyplot.xlabel('Latency')\n",
    "    pyplot.xticks(histbins, rotation=70)\n",
    "    axes = pyplot.axes()\n",
    "    axes.xaxis.set_major_formatter(pyplot.FuncFormatter(format_sec_ns))\n",
    "    from matplotlib.ticker import MaxNLocator\n",
    "    axes.yaxis.set_major_locator(MaxNLocator(integer=True))\n",
    "    pyplot.show()"
   ]
  },
  {
   "cell_type": "code",
   "execution_count": null,
   "metadata": {
    "scrolled": false
   },
   "outputs": [],
   "source": [
    "plot_hist(df.query('state == 0'), title=\"state0\")\n",
    "plot_hist(df.query('state == 0 and wake_src == \"ipi\"'), title=\"state0 ipi\")\n",
    "plot_hist(df.query('state == 0 and wake_src != \"ipi\"'), title=\"state0 non-ipi\")\n",
    "plot_hist(df.query('state == 1'), title=\"state1\")\n",
    "plot_hist(df.query('state == 2'), title=\"state2\")\n",
    "plot_hist(df, title=\"all\")"
   ]
  }
 ],
 "metadata": {
  "kernelspec": {
   "display_name": "Python 2",
   "language": "python",
   "name": "python2"
  },
  "language_info": {
   "codemirror_mode": {
    "name": "ipython",
    "version": 2
   },
   "file_extension": ".py",
   "mimetype": "text/x-python",
   "name": "python",
   "nbconvert_exporter": "python",
   "pygments_lexer": "ipython2",
   "version": "2.7.15rc1"
  }
 },
 "nbformat": 4,
 "nbformat_minor": 2
}
